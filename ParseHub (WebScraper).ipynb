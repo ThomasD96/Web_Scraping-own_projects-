{
 "cells": [
  {
   "cell_type": "code",
   "execution_count": null,
   "metadata": {},
   "outputs": [],
   "source": [
    "# https://github.com/techwithtim/Cornavirus-Voice-Assistant/blob/master/main.py"
   ]
  },
  {
   "cell_type": "code",
   "execution_count": 1,
   "metadata": {},
   "outputs": [],
   "source": [
    "import requests\n",
    "import json\n",
    "\n",
    "API_KEY = \"t9Y8HYYcufen\"\n",
    "PROJECT_TOKEN = \"txL9BdM259_a\"\n",
    "RUN_TOKEN = \"tNTjONvVXowD\"\n",
    "\n",
    "# returns all the scraped data in a json-format\n",
    "class Data:\n",
    "    def __init__(self, api_key, project_token):\n",
    "        self.api_key = api_key\n",
    "        self.project_token = project_token\n",
    "        self.params = {\"api_key\": self.api_key}\n",
    "        self.data = self.get_data()\n",
    "\n",
    "    def get_data(self):\n",
    "        response = requests.get(f'https://www.parsehub.com/api/v2/projects/{self.project_token}/last_ready_run/data', params=self.params)\n",
    "        self.data = json.loads(response.text)\n",
    "        return data"
   ]
  },
  {
   "cell_type": "code",
   "execution_count": null,
   "metadata": {},
   "outputs": [],
   "source": [
    "data = Data(API_KEY, PROJECT_TOKEN)\n",
    "print (data.data)"
   ]
  }
 ],
 "metadata": {
  "kernelspec": {
   "display_name": "Python 3",
   "language": "python",
   "name": "python3"
  },
  "language_info": {
   "codemirror_mode": {
    "name": "ipython",
    "version": 3
   },
   "file_extension": ".py",
   "mimetype": "text/x-python",
   "name": "python",
   "nbconvert_exporter": "python",
   "pygments_lexer": "ipython3",
   "version": "3.7.6"
  }
 },
 "nbformat": 4,
 "nbformat_minor": 4
}
