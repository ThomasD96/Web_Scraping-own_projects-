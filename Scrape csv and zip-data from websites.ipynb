{
 "cells": [
  {
   "cell_type": "code",
   "execution_count": 91,
   "metadata": {},
   "outputs": [],
   "source": [
    "import pandas as pd\n",
    "import datetime\n",
    "import itertools\n",
    "import requests\n",
    "from bs4 import BeautifulSoup\n",
    "from urllib import request\n",
    "import re"
   ]
  },
  {
   "cell_type": "code",
   "execution_count": 65,
   "metadata": {},
   "outputs": [],
   "source": [
    "dir_url = \"https://support.spatialkey.com/spatialkey-sample-csv-data/\"\n",
    "hdr = {'User-Agent': 'Mozilla/5.0 (Macintosh; Intel Mac OS X 10_13_6) AppleWebKit/537.36 (KHTML, like Gecko) Chrome/70.0.3538.77 Safari/537.36'}\n",
    "\n",
    "# Request page content\n",
    "response = requests.get(dir_url, timeout=120, headers = hdr)\n",
    "\n",
    "# Parse and turn into soup\n",
    "soup = BeautifulSoup(response.content, 'html.parser')\n",
    "anzahl = soup.find_all('div', attrs={'class':'entry-content'})\n",
    "anzahl = str(anzahl).split()"
   ]
  },
  {
   "cell_type": "code",
   "execution_count": 77,
   "metadata": {},
   "outputs": [],
   "source": [
    "find_all_links = [s for s in anzahl if 'href' in s]\n",
    "find_all_links = [s for s in find_all_links if 'csv' in s]\n",
    "find_all_links = list(map( lambda x: x.replace('\"', ''), find_all_links))\n",
    "find_all_links = list(map( lambda x: x.replace('href=', ''), find_all_links))"
   ]
  },
  {
   "cell_type": "code",
   "execution_count": 89,
   "metadata": {},
   "outputs": [],
   "source": [
    "def download_csv_zip(url):   \n",
    "    \n",
    "    # get name of the file from the url\n",
    "    file_name = url.split('/')[-1]\n",
    "    target_path = str(file_name)\n",
    "    response = requests.get(url, stream=True)\n",
    "    handle = open(target_path, \"wb\")\n",
    "    for chunk in response.iter_content(chunk_size=512):\n",
    "        if chunk:\n",
    "            handle.write(chunk)\n",
    "    handle.close()"
   ]
  },
  {
   "cell_type": "code",
   "execution_count": 90,
   "metadata": {},
   "outputs": [],
   "source": [
    "for i in find_all_links:\n",
    "    download_csv_zip(i)"
   ]
  }
 ],
 "metadata": {
  "kernelspec": {
   "display_name": "Python 3",
   "language": "python",
   "name": "python3"
  },
  "language_info": {
   "codemirror_mode": {
    "name": "ipython",
    "version": 3
   },
   "file_extension": ".py",
   "mimetype": "text/x-python",
   "name": "python",
   "nbconvert_exporter": "python",
   "pygments_lexer": "ipython3",
   "version": "3.7.6"
  }
 },
 "nbformat": 4,
 "nbformat_minor": 4
}
