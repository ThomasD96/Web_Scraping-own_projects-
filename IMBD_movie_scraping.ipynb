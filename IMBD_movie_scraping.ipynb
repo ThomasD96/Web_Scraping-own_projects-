{
 "cells": [
  {
   "cell_type": "code",
   "execution_count": 10,
   "metadata": {},
   "outputs": [],
   "source": [
    "import pandas as pd\n",
    "import datetime\n",
    "import itertools\n",
    "import requests\n",
    "from bs4 import BeautifulSoup\n",
    "import re"
   ]
  },
  {
   "cell_type": "code",
   "execution_count": 59,
   "metadata": {},
   "outputs": [],
   "source": [
    "def scrape_shows(dir_url):\n",
    "    url_beginning = dir_url + str(1)\n",
    "    hdr = {'User-Agent': 'Mozilla/5.0 (Macintosh; Intel Mac OS X 10_13_6) AppleWebKit/537.36 (KHTML, like Gecko) Chrome/70.0.3538.77 Safari/537.36'}\n",
    "\n",
    "    # Request page content\n",
    "    dir_page_response = requests.get(url_beginning, timeout=120, headers = hdr)\n",
    "\n",
    "    # Parse and turn into soup\n",
    "    dir_page_soup = BeautifulSoup(dir_page_response.content, 'html.parser')\n",
    "\n",
    "    max_seasons = dir_page_soup.find_all(class_ = 'current')\n",
    "    max_seasons = list(str(max_seasons[0].text).strip())\n",
    "    max_seasons = [y.strip('\\n') for y in max_seasons]\n",
    "    max_seasons = [y.strip(' ') for y in max_seasons]\n",
    "\n",
    "    all_seasons = []\n",
    "    for i in max_seasons:\n",
    "        if bool(str(i)) == True:\n",
    "            all_seasons.append(i)\n",
    "        else:\n",
    "            continue\n",
    "\n",
    "    season_length = len(all_seasons) + 1\n",
    "\n",
    "\n",
    "    name_of_episode = []\n",
    "    season_episode = []\n",
    "    get_ratings = []\n",
    "\n",
    "    for i in range(1, season_length):\n",
    "        url = dir_url + str(i)\n",
    "        dir_page_response = requests.get(url, timeout=120, headers = hdr)\n",
    "        dir_page_soup = BeautifulSoup(dir_page_response.content, 'html.parser')\n",
    "        episodes = dir_page_soup.find_all(class_ = 'image')\n",
    "        max_episodes_per_season = len(episodes)\n",
    "\n",
    "        for i in range(0, max_episodes_per_season):\n",
    "            episode_name = str(episodes[i].contents[1]).split('title')[2].split('<div')[0]\n",
    "            name_of_episode.append(episode_name)\n",
    "\n",
    "        for i in range(0, max_episodes_per_season):\n",
    "            season_and_episode = episodes[i].contents[1].text.strip()\n",
    "            season_episode.append(season_and_episode)\n",
    "            \n",
    "        try:\n",
    "            for i in range(0, max_episodes_per_season):\n",
    "                ratings = dir_page_soup.find_all(class_ = 'ipl-rating-widget')\n",
    "                rating = str(ratings[i].contents[1].text.strip()).split()[0]\n",
    "                get_ratings.append(rating)\n",
    "        except:\n",
    "            continue\n",
    "            \n",
    "    \n",
    "    # show_name\n",
    "    show = dir_page_soup.find_all(class_ = 'parent')\n",
    "    show_name = [show[0].contents[1].text.strip().split('\\n')[0].strip()] * len(name_of_episode)\n",
    "    \n",
    "                    \n",
    "    # final cleaning\n",
    "    name_of_episode = [y.strip('=\">') for y in name_of_episode]\n",
    "    name_of_episode = list(map( lambda x: x.replace(\">\", ''), name_of_episode))\n",
    "    name_of_episode = list(map( lambda x: x.replace('\" ', ''), name_of_episode))\n",
    "\n",
    "    df = pd.DataFrame(list(zip(season_episode, name_of_episode, get_ratings, show_name)))\n",
    "    df.columns = ['season_episode', 'title', 'ratings', 'show_name']\n",
    "    df_split = df['season_episode'].str.split(',', expand = True)\n",
    "    result = pd.concat([df, df_split], axis=1, sort=False)\n",
    "    result.columns = ['remove', 'title', 'rating', 'show_name', 'season', 'episode']\n",
    "    df = result[['title', 'rating', 'show_name','season', 'episode']]\n",
    "    \n",
    "    return df"
   ]
  },
  {
   "cell_type": "code",
   "execution_count": 60,
   "metadata": {},
   "outputs": [],
   "source": [
    "df = scrape_shows(dir_url = 'https://www.imdb.com/title/tt3107288/episodes?season=')"
   ]
  }
 ],
 "metadata": {
  "kernelspec": {
   "display_name": "Python 3",
   "language": "python",
   "name": "python3"
  },
  "language_info": {
   "codemirror_mode": {
    "name": "ipython",
    "version": 3
   },
   "file_extension": ".py",
   "mimetype": "text/x-python",
   "name": "python",
   "nbconvert_exporter": "python",
   "pygments_lexer": "ipython3",
   "version": "3.7.6"
  }
 },
 "nbformat": 4,
 "nbformat_minor": 4
}
