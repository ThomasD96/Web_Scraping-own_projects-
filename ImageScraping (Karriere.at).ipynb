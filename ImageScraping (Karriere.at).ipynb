{
 "cells": [
  {
   "cell_type": "code",
   "execution_count": 12,
   "metadata": {},
   "outputs": [],
   "source": [
    "import pandas as pd\n",
    "import datetime\n",
    "import itertools\n",
    "import requests\n",
    "from bs4 import BeautifulSoup\n",
    "import re\n",
    "import os\n",
    "import requests\n",
    "import shutil\n",
    "import urllib.request\n",
    "import random"
   ]
  },
  {
   "cell_type": "code",
   "execution_count": 31,
   "metadata": {},
   "outputs": [],
   "source": [
    "dir_url = \"https://www.karriere.at/jobs?page=2\"\n",
    "hdr = {'User-Agent': 'Mozilla/5.0 (Macintosh; Intel Mac OS X 10_13_6) AppleWebKit/537.36 (KHTML, like Gecko) Chrome/70.0.3538.77 Safari/537.36'}\n",
    "\n",
    "# Request page content\n",
    "dir_page_response = requests.get(dir_url, timeout=120, headers = hdr)\n",
    "\n",
    "# Parse and turn into soup\n",
    "dir_page_soup = BeautifulSoup(dir_page_response.content, 'html.parser')\n",
    "\n",
    "# Returns max. number of pages to scrape\n",
    "max_anzahl = dir_page_soup.find_all(class_ = 'm-pagination__meta')\n",
    "max_anzahl = int(max_anzahl[0].contents[0].split()[2]) + 1"
   ]
  },
  {
   "cell_type": "code",
   "execution_count": 34,
   "metadata": {},
   "outputs": [],
   "source": [
    "all_images = []\n",
    "\n",
    "for i in range(1, max_anzahl):\n",
    "    dir_url = 'https://www.karriere.at/jobs?page=' + str(i)\n",
    "    dir_page_response = requests.get(dir_url, timeout=120, headers = hdr)\n",
    "    dir_page_soup = BeautifulSoup(dir_page_response.content, 'html.parser')\n",
    "    images = dir_page_soup.find_all(class_= 'm-jobsListItem__imageContainer')\n",
    "    all_images.append(images)\n",
    "\n",
    "# convert lists of list to single list\n",
    "merged_images = list(itertools.chain(*all_images))"
   ]
  },
  {
   "cell_type": "code",
   "execution_count": 35,
   "metadata": {},
   "outputs": [],
   "source": [
    "# get all the img-tags of the singe list\n",
    "image_info = []\n",
    "for a in merged_images:\n",
    "    image_tag = a.findChildren(\"img\")\n",
    "    image_data = image_tag[0]['data-latesrc']\n",
    "    image_info.append(image_data)"
   ]
  },
  {
   "cell_type": "code",
   "execution_count": 36,
   "metadata": {},
   "outputs": [],
   "source": [
    "# make urls and remove all non-https tags\n",
    "image_info = list(map( lambda x: x.replace('//', 'https://'), image_info))\n",
    "image_info = [elem for elem in image_info if elem.startswith('https:')]"
   ]
  },
  {
   "cell_type": "code",
   "execution_count": 37,
   "metadata": {},
   "outputs": [],
   "source": [
    "# loop over generated urls and save images\n",
    "for url in image_info:\n",
    "    random_number = round(random.random(), 5)\n",
    "    url_name = url.split('/')    \n",
    "    get_company_name = url_name[-1].split('.')[0:-1]\n",
    "    ending = url_name[-1].split('.')[-1]\n",
    "    get_company_name = \" \".join(get_company_name)\n",
    "    name_company = get_company_name + str(random_number) + str('.') + str(ending)\n",
    "    urllib.request.urlretrieve(url, name_company)"
   ]
  }
 ],
 "metadata": {
  "kernelspec": {
   "display_name": "Python 3",
   "language": "python",
   "name": "python3"
  },
  "language_info": {
   "codemirror_mode": {
    "name": "ipython",
    "version": 3
   },
   "file_extension": ".py",
   "mimetype": "text/x-python",
   "name": "python",
   "nbconvert_exporter": "python",
   "pygments_lexer": "ipython3",
   "version": "3.7.6"
  }
 },
 "nbformat": 4,
 "nbformat_minor": 4
}
