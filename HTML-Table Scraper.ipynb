{
 "cells": [
  {
   "cell_type": "code",
   "execution_count": 1,
   "metadata": {},
   "outputs": [],
   "source": [
    "import pandas as pd\n",
    "from pandas import Series,DataFrame\n",
    "import numpy as np"
   ]
  },
  {
   "cell_type": "code",
   "execution_count": 54,
   "metadata": {},
   "outputs": [],
   "source": [
    "data = pd.read_html('https://www.nzz.ch/sport/live-resultate/fussball/super-league/ergebnisse-und-tabelle/')"
   ]
  },
  {
   "cell_type": "code",
   "execution_count": 55,
   "metadata": {},
   "outputs": [
    {
     "name": "stdout",
     "output_type": "stream",
     "text": [
      "   #  Unnamed: 1           Mannschaft Mannschaft.1 Mannschaft.2  Sp.  S  U  N  \\\n",
      "0  1         NaN       BSC Young Boys   Young Boys           YB    0  0  0  0   \n",
      "1  1         NaN             FC Basel     FC Basel          BAS    0  0  0  0   \n",
      "2  1         NaN            FC Lugano    FC Lugano          LUG    0  0  0  0   \n",
      "3  1         NaN            FC Luzern    FC Luzern          LUZ    0  0  0  0   \n",
      "4  1         NaN              FC Sion      FC Sion          SIO    0  0  0  0   \n",
      "5  1         NaN        FC St. Gallen   St. Gallen           SG    0  0  0  0   \n",
      "6  1         NaN              FC Thun      FC Thun          THU    0  0  0  0   \n",
      "7  1         NaN            FC Zürich    FC Zürich          FCZ    0  0  0  0   \n",
      "8  1         NaN  Neuchâtel Xamax FCS    Neuchâtel          XAM    0  0  0  0   \n",
      "9  1         NaN      Servette Genève     Servette          SFC    0  0  0  0   \n",
      "\n",
      "  Tore  Diff.  Pkt.  \n",
      "0  0:0      0     0  \n",
      "1  0:0      0     0  \n",
      "2  0:0      0     0  \n",
      "3  0:0      0     0  \n",
      "4  0:0      0     0  \n",
      "5  0:0      0     0  \n",
      "6  0:0      0     0  \n",
      "7  0:0      0     0  \n",
      "8  0:0      0     0  \n",
      "9  0:0      0     0  \n"
     ]
    }
   ],
   "source": [
    "table = data[0]\n",
    "print(table)"
   ]
  },
  {
   "cell_type": "code",
   "execution_count": 56,
   "metadata": {},
   "outputs": [
    {
     "data": {
      "text/html": [
       "<div>\n",
       "<style scoped>\n",
       "    .dataframe tbody tr th:only-of-type {\n",
       "        vertical-align: middle;\n",
       "    }\n",
       "\n",
       "    .dataframe tbody tr th {\n",
       "        vertical-align: top;\n",
       "    }\n",
       "\n",
       "    .dataframe thead th {\n",
       "        text-align: right;\n",
       "    }\n",
       "</style>\n",
       "<table border=\"1\" class=\"dataframe\">\n",
       "  <thead>\n",
       "    <tr style=\"text-align: right;\">\n",
       "      <th></th>\n",
       "      <th>#</th>\n",
       "      <th>Unnamed: 1</th>\n",
       "      <th>Mannschaft</th>\n",
       "      <th>Mannschaft.1</th>\n",
       "      <th>Mannschaft.2</th>\n",
       "      <th>Sp.</th>\n",
       "      <th>S</th>\n",
       "      <th>U</th>\n",
       "      <th>N</th>\n",
       "      <th>Tore</th>\n",
       "      <th>Diff.</th>\n",
       "      <th>Pkt.</th>\n",
       "    </tr>\n",
       "  </thead>\n",
       "  <tbody>\n",
       "    <tr>\n",
       "      <th>0</th>\n",
       "      <td>1</td>\n",
       "      <td>NaN</td>\n",
       "      <td>BSC Young Boys</td>\n",
       "      <td>Young Boys</td>\n",
       "      <td>YB</td>\n",
       "      <td>0</td>\n",
       "      <td>0</td>\n",
       "      <td>0</td>\n",
       "      <td>0</td>\n",
       "      <td>0:0</td>\n",
       "      <td>0</td>\n",
       "      <td>0</td>\n",
       "    </tr>\n",
       "    <tr>\n",
       "      <th>1</th>\n",
       "      <td>1</td>\n",
       "      <td>NaN</td>\n",
       "      <td>FC Basel</td>\n",
       "      <td>FC Basel</td>\n",
       "      <td>BAS</td>\n",
       "      <td>0</td>\n",
       "      <td>0</td>\n",
       "      <td>0</td>\n",
       "      <td>0</td>\n",
       "      <td>0:0</td>\n",
       "      <td>0</td>\n",
       "      <td>0</td>\n",
       "    </tr>\n",
       "    <tr>\n",
       "      <th>2</th>\n",
       "      <td>1</td>\n",
       "      <td>NaN</td>\n",
       "      <td>FC Lugano</td>\n",
       "      <td>FC Lugano</td>\n",
       "      <td>LUG</td>\n",
       "      <td>0</td>\n",
       "      <td>0</td>\n",
       "      <td>0</td>\n",
       "      <td>0</td>\n",
       "      <td>0:0</td>\n",
       "      <td>0</td>\n",
       "      <td>0</td>\n",
       "    </tr>\n",
       "    <tr>\n",
       "      <th>3</th>\n",
       "      <td>1</td>\n",
       "      <td>NaN</td>\n",
       "      <td>FC Luzern</td>\n",
       "      <td>FC Luzern</td>\n",
       "      <td>LUZ</td>\n",
       "      <td>0</td>\n",
       "      <td>0</td>\n",
       "      <td>0</td>\n",
       "      <td>0</td>\n",
       "      <td>0:0</td>\n",
       "      <td>0</td>\n",
       "      <td>0</td>\n",
       "    </tr>\n",
       "    <tr>\n",
       "      <th>4</th>\n",
       "      <td>1</td>\n",
       "      <td>NaN</td>\n",
       "      <td>FC Sion</td>\n",
       "      <td>FC Sion</td>\n",
       "      <td>SIO</td>\n",
       "      <td>0</td>\n",
       "      <td>0</td>\n",
       "      <td>0</td>\n",
       "      <td>0</td>\n",
       "      <td>0:0</td>\n",
       "      <td>0</td>\n",
       "      <td>0</td>\n",
       "    </tr>\n",
       "  </tbody>\n",
       "</table>\n",
       "</div>"
      ],
      "text/plain": [
       "   #  Unnamed: 1      Mannschaft Mannschaft.1 Mannschaft.2  Sp.  S  U  N Tore  \\\n",
       "0  1         NaN  BSC Young Boys   Young Boys           YB    0  0  0  0  0:0   \n",
       "1  1         NaN        FC Basel     FC Basel          BAS    0  0  0  0  0:0   \n",
       "2  1         NaN       FC Lugano    FC Lugano          LUG    0  0  0  0  0:0   \n",
       "3  1         NaN       FC Luzern    FC Luzern          LUZ    0  0  0  0  0:0   \n",
       "4  1         NaN         FC Sion      FC Sion          SIO    0  0  0  0  0:0   \n",
       "\n",
       "   Diff.  Pkt.  \n",
       "0      0     0  \n",
       "1      0     0  \n",
       "2      0     0  \n",
       "3      0     0  \n",
       "4      0     0  "
      ]
     },
     "execution_count": 56,
     "metadata": {},
     "output_type": "execute_result"
    }
   ],
   "source": [
    "df = pd.DataFrame(table)\n",
    "df.head()"
   ]
  }
 ],
 "metadata": {
  "hide_input": false,
  "kernelspec": {
   "display_name": "Python 3",
   "language": "python",
   "name": "python3"
  },
  "language_info": {
   "codemirror_mode": {
    "name": "ipython",
    "version": 3
   },
   "file_extension": ".py",
   "mimetype": "text/x-python",
   "name": "python",
   "nbconvert_exporter": "python",
   "pygments_lexer": "ipython3",
   "version": "3.7.3"
  },
  "varInspector": {
   "cols": {
    "lenName": 16,
    "lenType": 16,
    "lenVar": 40
   },
   "kernels_config": {
    "python": {
     "delete_cmd_postfix": "",
     "delete_cmd_prefix": "del ",
     "library": "var_list.py",
     "varRefreshCmd": "print(var_dic_list())"
    },
    "r": {
     "delete_cmd_postfix": ") ",
     "delete_cmd_prefix": "rm(",
     "library": "var_list.r",
     "varRefreshCmd": "cat(var_dic_list()) "
    }
   },
   "types_to_exclude": [
    "module",
    "function",
    "builtin_function_or_method",
    "instance",
    "_Feature"
   ],
   "window_display": false
  }
 },
 "nbformat": 4,
 "nbformat_minor": 2
}
